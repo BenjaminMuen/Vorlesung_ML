{
 "cells": [
  {
   "cell_type": "markdown",
   "metadata": {},
   "source": [
    "# Linear Regression in Machine Learning\n",
    "\n",
    "Welcome to this Python Notebook!\n",
    "\n",
    "In this assignment you will dive deeper into linear regression. Let's do a short recap first.\n",
    "\n",
    "**What is Linear Regression?**\n",
    "\n",
    "Linear Regression is an supervised-learning algorithm that predicts the linear relationship between a dependent (float output) and one or more independent variables. Labeled data is used to learn the linear relationship, which can then be used to make predictions.\n",
    "\n",
    "For example, the following data points are given. To illustrate the data, let´s say the x-value represents the area of a house and the y-value represents the price of the house. Each datapoint represents a house for which the area and price are known.\n",
    "\n",
    "<img src=\"images/datapoints.png\" style=\"width:400px\">\n",
    "\n",
    "The relationship between x and y, i.e. the area and the price, can now be analyzed using linear regression. The relationship, i.e. the straight line, can be described mathematically by the following equation:\n",
    "$$h(x) = wx + b$$\n",
    "w is a 'weight' parameter and b is called 'bias'. These parameters can be learned by a linear regression model.\n",
    "\n",
    "<img src=\"images/linear_relationship.PNG\" style=\"width:400px\">\n",
    "\n",
    "This equation can now be used to predict the price of a house for a given area.\n",
    "\n",
    "<img src=\"images/prediction.PNG\" style=\"width:400px\">\n",
    "\n",
    "This is an example of simple linear regression. There is only one independent variable (the area).\n",
    "\n",
    "\n",
    "Let´s start with the assignment!"
   ]
  },
  {
   "cell_type": "markdown",
   "metadata": {},
   "source": [
    "# 1 - Import and visualize the data\n",
    "\n"
   ]
  },
  {
   "cell_type": "code",
   "execution_count": 91,
   "metadata": {},
   "outputs": [],
   "source": [
    "import numpy as np  # to perform mathematical operations\n",
    "import matplotlib.pyplot as plt # to create plots and visualize data\n",
    "from matplotlib.animation import FuncAnimation # for working with data sets\n",
    "import pandas as pd"
   ]
  },
  {
   "cell_type": "markdown",
   "metadata": {},
   "source": [
    "**Problem Statement:** You are the head of the marketing team. Your task is to find the correlation between the monthly expenditure on advertising and the company's profit. For this you receive a data set containing the expenditure and the profit. You will use linear regression to find the correlation.\n",
    "\n",
    "First, let´s import the data and visualize it."
   ]
  },
  {
   "cell_type": "code",
   "execution_count": 92,
   "metadata": {},
   "outputs": [
    {
     "data": {
      "image/png": "[encoded data removed]",
      "text/plain": [
       "<Figure size 800x600 with 1 Axes>"
      ]
     },
     "metadata": {},
     "output_type": "display_data"
    }
   ],
   "source": [
    "path = \"datasets/data.csv\"\n",
    "data = pd.read_csv(path)\n",
    "data = data.dropna()    # drop all rows that have any NaN values\n",
    "data['x'] = data['x'].astype(float)   # convert the data type of column x to float\n",
    "data['y'] = data['y'].astype(float)   # convert the data type of column y to float\n",
    "data_points_to_be_included = 100\n",
    "train_input = np.array(data.x[0:data_points_to_be_included]).reshape(data_points_to_be_included, 1)\n",
    "train_output = np.array(data.y[0:data_points_to_be_included]).reshape(data_points_to_be_included, 1)\n",
    "\n",
    "plt.figure(figsize=(8, 6))\n",
    "plt.scatter(train_input.tolist(), train_output.tolist(), color='blue', label='Data Points')\n",
    "plt.xlabel('expenditure')\n",
    "plt.ylabel('profit')\n",
    "plt.legend()\n",
    "plt.grid(True)\n",
    "plt.show()"
   ]
  },
  {
   "cell_type": "markdown",
   "metadata": {},
   "source": [
    "# 2 - Cost Function #\n",
    "\n",
    "Now that we have our data we want to build a model to learn the parameters for the linear regression. For this we use the mean squared error as cost function.\n",
    "\n",
    "$$ J = \\frac{1}{2m} \\sum_{i=1}^m (h(x)-y)^2$$\n",
    "\n",
    "Where:\n",
    "\n",
    "- m is the number of data points\n",
    "- h(x) is the predicted value\n",
    "- y is the actual value\n",
    "\n",
    "By squaring the deviations, they are always positive, preventing negative and positive deviations from canceling each other out. Additionally, this weighting scheme gives larger errors more significance in the evaluation of the model's performance.\n",
    "\n",
    "**Exercise:** Implement the cost function as defined above."
   ]
  },
  {
   "cell_type": "code",
   "execution_count": 93,
   "metadata": {},
   "outputs": [],
   "source": [
    "def compute_cost(yhat, y):\n",
    "    \"\"\"\n",
    "    Arguments:\n",
    "    yhat -- predicted values\n",
    "    y -- actual values\n",
    "\n",
    "    Returns:\n",
    "    cost -- the value of the cost function defined above\n",
    "    \"\"\"\n",
    "    ### START CODE HERE ### (≈ 2 line of code)\n",
    "    diff = yhat - y\n",
    "    cost = np.multiply(1/(2*y.shape[0]), np.dot(diff.T, diff))\n",
    "    ### END CODE HERE ###\n",
    "\n",
    "    return cost"
   ]
  },
  {
   "cell_type": "code",
   "execution_count": 94,
   "metadata": {},
   "outputs": [
    {
     "name": "stdout",
     "output_type": "stream",
     "text": [
      "cost:  0.17428571428571424\n"
     ]
    }
   ],
   "source": [
    "yhat = np.array([1.3, 5.4, 3.8, 4.9, 6.1, 8.6, 7.7])\n",
    "y = np.array([1.8, 5.2, 4.8, 4.4, 6.2, 8.1, 8.5])\n",
    "cost = compute_cost(yhat, y)\n",
    "print(\"cost: \", cost)"
   ]
  },
  {
   "cell_type": "markdown",
   "metadata": {},
   "source": [
    "**Expected Output**: \n",
    "<table style=\"width:20%\">\n",
    "     <tr> \n",
    "       <td> cost </td> \n",
    "       <td> 0.1743 </td> \n",
    "     </tr>\n",
    "</table>"
   ]
  },
  {
   "cell_type": "markdown",
   "metadata": {},
   "source": [
    "# 3 - Gradient Descent #\n",
    "\n",
    "To minimize the cost function we use gradient descent. First, the prediction of the model is calculated using the current parameters (forward propagation). Then the current costs can be calculated using the cost function. After that the gradient of the cost function can be calculated to update the parameters (backward propagation). This process is repeated iteratively. During this training, the costs decrease and the parameters of the model are optimized.\n",
    "\n",
    "**Exercise:** Implement the forward propagation to calculate the prediction.\n"
   ]
  },
  {
   "cell_type": "code",
   "execution_count": 95,
   "metadata": {},
   "outputs": [],
   "source": [
    "def forward_propagation(w, b, X):\n",
    "    \"\"\"\n",
    "    Implement the predictions of our model\n",
    "\n",
    "    Arguments:\n",
    "    w -- weight\n",
    "    b -- bias\n",
    "    X -- input data\n",
    "\n",
    "    Return:\n",
    "    predictions -- the predictions of our model\n",
    "    \"\"\"\n",
    "    ### START CODE HERE ### (≈ 1 line of code)\n",
    "    predictions = np.add(np.multiply(w, X), b)\n",
    "    ### END CODE HERE ###\n",
    "    return predictions"
   ]
  },
  {
   "cell_type": "code",
   "execution_count": 96,
   "metadata": {},
   "outputs": [
    {
     "name": "stdout",
     "output_type": "stream",
     "text": [
      "prediction: [19.8  25.05 17.85 29.4  23.25 20.4  17.1  27.6 ]\n"
     ]
    }
   ],
   "source": [
    "w = 1.5\n",
    "b = 14.7\n",
    "X = [3.4, 6.9, 2.1, 9.8, 5.7, 3.8, 1.6, 8.6]\n",
    "prediction = forward_propagation(w, b, X)\n",
    "\n",
    "print('prediction:',prediction)"
   ]
  },
  {
   "cell_type": "markdown",
   "metadata": {},
   "source": [
    "**Expected Output**: \n",
    "<table style=\"width:50%\">\n",
    "     <tr> \n",
    "       <td> prediction </td> \n",
    "       <td> [19.8  25.05 17.85 29.4 23.25 20.4 17.1 27.6 ] </td> \n",
    "     </tr>\n",
    "</table>"
   ]
  },
  {
   "cell_type": "markdown",
   "metadata": {},
   "source": [
    "**Exercise**: Implement the backward propagation using the appropriate gradients\n",
    "\n",
    "\n",
    "$$ \\frac{\\partial J}{\\partial w} = ?$$\n",
    "$$ \\frac{\\partial J}{\\partial b} = ?$$\n"
   ]
  },
  {
   "cell_type": "code",
   "execution_count": 97,
   "metadata": {},
   "outputs": [],
   "source": [
    "def backward_propagation(X, Y_pred, Y):\n",
    "    \"\"\"\n",
    "    Implement the backward propagation\n",
    "\n",
    "    Arguments:\n",
    "    X -- input data\n",
    "    Y_pred -- predicted values\n",
    "    Y -- actual values\n",
    "\n",
    "    Return:\n",
    "    dw -- gradient of the loss with respect to w\n",
    "    db -- gradient of the loss with respect to b\n",
    "    \"\"\"\n",
    "    m = Y.shape[0]\n",
    "    ### START CODE HERE ### (≈ 2 line of code)\n",
    "    dw = np.multiply(1/m, np.dot(X.T, (Y_pred - Y)))\n",
    "    db = np.multiply(1/m, np.sum(Y_pred - Y))\n",
    "    ### END CODE HERE ###\n",
    "\n",
    "    return dw, db"
   ]
  },
  {
   "cell_type": "code",
   "execution_count": 98,
   "metadata": {},
   "outputs": [
    {
     "name": "stdout",
     "output_type": "stream",
     "text": [
      "dw: 0.3614285714285712\n",
      "db: -0.17142857142857146\n"
     ]
    }
   ],
   "source": [
    "X = np.array([3.4, 6.9, 2.1, 9.8, 5.7, 3.8, 1.6])\n",
    "Y_pred = np.array([1.3, 5.4, 3.8, 4.9, 6.1, 8.6, 7.7])\n",
    "Y = np.array([1.8, 5.2, 4.8, 4.4, 6.2, 8.1, 8.5])\n",
    "\n",
    "dw, db = backward_propagation(X, Y_pred, Y)\n",
    "print(\"dw:\", dw)\n",
    "print(\"db:\", db)"
   ]
  },
  {
   "cell_type": "markdown",
   "metadata": {},
   "source": [
    "**Expected Output**: \n",
    "<table style=\"width: 30%\">\n",
    "     <tr> \n",
    "       <td> dw </td> \n",
    "       <td> 0.3614 </td> \n",
    "     </tr>\n",
    "     <tr> \n",
    "       <td> db </td> \n",
    "       <td> -0.1714 </td> \n",
    "     </tr>\n",
    "</table>"
   ]
  },
  {
   "cell_type": "markdown",
   "metadata": {},
   "source": [
    "**Exercise:** Implement the function to update the parameters. The update rule is $ \\theta := \\theta - \\alpha \\text{ } d\\theta$ , where $\\theta$ is a parameter and $\\alpha$ is the learning rate."
   ]
  },
  {
   "cell_type": "code",
   "execution_count": 99,
   "metadata": {},
   "outputs": [],
   "source": [
    "def update_parameters(w, b, dw, db, learning_rate):\n",
    "    \"\"\"\n",
    "    Update parameters using gradient descent\n",
    "\n",
    "    Arguments:\n",
    "    w -- weight\n",
    "    b -- bias\n",
    "    dw -- gradient\n",
    "    db -- gradient\n",
    "    learning_rate\n",
    "\n",
    "    Returns:\n",
    "    w -- updated weight\n",
    "    b -- updated bias\n",
    "    \"\"\"\n",
    "    ### START CODE HERE ### (≈ 2 line of code)\n",
    "    w = w - np.multiply(learning_rate, dw)\n",
    "    b = b - np.multiply(learning_rate, db)\n",
    "    ### END CODE HERE ###\n",
    "    return w, b"
   ]
  },
  {
   "cell_type": "code",
   "execution_count": 100,
   "metadata": {},
   "outputs": [
    {
     "name": "stdout",
     "output_type": "stream",
     "text": [
      "updated w 3.928\n",
      "updated b: 3.034\n"
     ]
    }
   ],
   "source": [
    "w, b = update_parameters(4, 3, 0.72, -0.34, 0.1)\n",
    "print(\"updated w\", w)\n",
    "print(\"updated b:\", b)"
   ]
  },
  {
   "cell_type": "markdown",
   "metadata": {},
   "source": [
    "**Expected Output**: \n",
    "<table style=\"width: 30%\">\n",
    "     <tr> \n",
    "       <td> w </td> \n",
    "       <td> 3.928 </td> \n",
    "     </tr>\n",
    "     <tr> \n",
    "       <td> b </td> \n",
    "       <td> 3.034 </td> \n",
    "     </tr>\n",
    "</table>"
   ]
  },
  {
   "cell_type": "markdown",
   "metadata": {},
   "source": [
    "# 4 - Build the model #\n",
    "\n",
    "Now we can combine the functions we implemented in the previous part to create a model.\n",
    "\n",
    "**Exercise:** Implement the training procedure. You need to iterate over the given `num_iterations` and update both of your parameters on every step. \n",
    "Print the cost to the console every 10 iterations!"
   ]
  },
  {
   "cell_type": "code",
   "execution_count": 101,
   "metadata": {},
   "outputs": [],
   "source": [
    "def train_model(X, Y, num_iterations=200, learning_rate=0.001, print_cost=True):\n",
    "    \"\"\"\n",
    "    Trains the model using gradient descent\n",
    "\n",
    "    Arguments:\n",
    "    X -- input data\n",
    "    Y -- values of the dependent variable\n",
    "    num_iterations -- number of iterations to optimize the parameters\n",
    "    learning_rate -- learning rate used to update the parameters\n",
    "    print_cost -- prints costs every 10 iterations if set to true\n",
    "\n",
    "    Returns:\n",
    "    w -- weight learned by the model\n",
    "    b -- bias learned by the model\n",
    "    \"\"\"\n",
    "    w = np.zeros((X.shape[1], 1))\n",
    "    b = 0\n",
    "    ### START CODE HERE ###\n",
    "    for i in range(num_iterations):\n",
    "        Y_pred = forward_propagation(w, b, X)\n",
    "        cost = compute_cost(Y_pred, Y)\n",
    "        dw, db = backward_propagation(X, Y_pred, Y)\n",
    "        w, b = update_parameters(w, b, dw, db, learning_rate)\n",
    "\n",
    "        if print_cost and i % 10 == 0:\n",
    "            print(f\"Iteration {i}: cost = {cost}\")\n",
    "    ### END CODE HERE ###\n",
    "    return w, b\n"
   ]
  },
  {
   "cell_type": "code",
   "execution_count": 102,
   "metadata": {},
   "outputs": [
    {
     "name": "stdout",
     "output_type": "stream",
     "text": [
      "Iteration 0: cost = [[17090.30597637]]\n",
      "Iteration 10: cost = [[781.29488527]]\n",
      "Iteration 20: cost = [[755.93467235]]\n",
      "Iteration 30: cost = [[755.88641776]]\n",
      "Iteration 40: cost = [[755.87752724]]\n",
      "Iteration 50: cost = [[755.86871604]]\n",
      "Iteration 60: cost = [[755.85992305]]\n",
      "Iteration 70: cost = [[755.85114814]]\n",
      "Iteration 80: cost = [[755.84239128]]\n",
      "Iteration 90: cost = [[755.83365243]]\n",
      "w: [[3.07899129]]\n",
      "b: -0.019611734408352333\n"
     ]
    }
   ],
   "source": [
    "w, b = train_model(train_input, train_output, num_iterations=100, learning_rate=0.0005)\n",
    "print('w:', w)\n",
    "print('b:', b)"
   ]
  },
  {
   "cell_type": "markdown",
   "metadata": {},
   "source": [
    "**Expected Output**: \n",
    "<table style=\"width: 30%\">\n",
    "     <tr> \n",
    "       <td> w </td> \n",
    "       <td> 3.080 </td> \n",
    "     </tr>\n",
    "     <tr> \n",
    "       <td> b </td> \n",
    "       <td> -0.019 </td> \n",
    "     </tr>\n",
    "</table>"
   ]
  },
  {
   "cell_type": "markdown",
   "metadata": {},
   "source": [
    "Run the next two cells to see the animation of the model."
   ]
  },
  {
   "cell_type": "code",
   "execution_count": 103,
   "metadata": {},
   "outputs": [],
   "source": [
    "from matplotlib.animation import PillowWriter\n",
    "def visualize_training_of_model(X, Y, num_iterations=200, learning_rate=0.01):\n",
    "    fig, ax = plt.subplots()\n",
    "    plt.scatter(X, Y, color='blue', label='Data Points')\n",
    "    line, = plt.plot(X, 0*X, color='red', label='Regression Line')\n",
    "    plt.title('Linear Regression')\n",
    "    plt.xlabel('expenditure')\n",
    "    plt.ylabel('profit')\n",
    "    plt.legend()\n",
    "\n",
    "    w = np.zeros((X.shape[1], 1))\n",
    "    b = 0\n",
    "    def update(frame):\n",
    "        nonlocal w, b\n",
    "        prediction = forward_propagation(w, b, X)\n",
    "        cost = compute_cost(prediction, Y)\n",
    "        dw, db = backward_propagation(X, prediction, Y)\n",
    "        w, b = update_parameters(w, b, dw, db, learning_rate)\n",
    "        line.set_data(X, w*X+b)\n",
    "        plt.title('Linear Regression - Iteration: {}, Cost: {}'.format(frame, cost))\n",
    "    ani = FuncAnimation(fig, update, frames=num_iterations, repeat=False, interval=200)\n",
    "    writergif = PillowWriter(fps=5)\n",
    "    ani.save('animation.gif', writer=writergif)\n"
   ]
  },
  {
   "cell_type": "code",
   "execution_count": 104,
   "metadata": {},
   "outputs": [
    {
     "data": {
      "image/png": "[encoded data removed]",
      "text/plain": [
       "<Figure size 640x480 with 1 Axes>"
      ]
     },
     "metadata": {},
     "output_type": "display_data"
    }
   ],
   "source": [
    "visualize_training_of_model(train_input, train_output, num_iterations=30, learning_rate=0.0005)"
   ]
  },
  {
   "cell_type": "markdown",
   "metadata": {},
   "source": [
    "<img src=\"animation.gif\" width=\"750\" align=\"center\">"
   ]
  },
  {
   "cell_type": "markdown",
   "metadata": {},
   "source": [
    "In the animation, you can observe how your own model gets better with every iteration.\n",
    "\n",
    "Congratulations, with the help of linear regression you have successfully found the correlation between advertising expenditure and the company's profit!\n",
    "\n",
    "<font color='red'>\n",
    "**What you should remember about linear regression:**\n",
    "\n",
    "- Linear regression is a supervised learning algorithm used for predicting an outcome based on input features\n",
    "\n",
    "- The model assumes a linear relationship between the input features and the target variable\n",
    "\n",
    "- The goal of linear regression is to find the best-fitting line by minimizing the sum of squared differences between the predicted and actual values\n",
    "\n",
    "- Linear regression can be extended to multiple variables"
   ]
  },
  {
   "cell_type": "markdown",
   "metadata": {},
   "source": [
    "Resources used for this exercise:\n",
    "- DHBW Student input from Kim Nguyen"
   ]
  }
 ],
 "metadata": {
  "kernelspec": {
   "display_name": "Python 3",
   "language": "python",
   "name": "python3"
  },
  "language_info": {
   "codemirror_mode": {
    "name": "ipython",
    "version": 3
   },
   "file_extension": ".py",
   "mimetype": "text/x-python",
   "name": "python",
   "nbconvert_exporter": "python",
   "pygments_lexer": "ipython3",
   "version": "3.11.8"
  }
 },
 "nbformat": 4,
 "nbformat_minor": 2
}
